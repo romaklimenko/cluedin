{
  "cells": [
    {
      "attachments": {},
      "cell_type": "markdown",
      "metadata": {
        "id": "KOO9WrAoImCh"
      },
      "source": [
        "# CluedIn\n",
        "\n",
        "[cluedin](https://pypi.org/project/cluedin/) is a Python client for [CluedIn](https://www.cluedin.com/) API. It can help you with the following:\n",
        "\n",
        "* getting JWT access tokens to CluedIn\n",
        "* calling CluedIn REST API\n",
        "* calling CluedIn GraphQL API\n",
        "\n",
        "The use is pretty simple. First, install it from [PyPi](https://pypi.org/project/cluedin/):"
      ]
    },
    {
      "cell_type": "code",
      "execution_count": null,
      "metadata": {
        "colab": {
          "base_uri": "https://localhost:8080/"
        },
        "id": "NvHz3dvggQfK",
        "outputId": "96d04b4b-f67f-4aab-d27e-f5a6acd903eb"
      },
      "outputs": [],
      "source": [
        "%pip install cluedin==2.0.0rc1\n",
        "%pip install numpy\n",
        "%pip install pandas"
      ]
    },
    {
      "attachments": {},
      "cell_type": "markdown",
      "metadata": {
        "id": "mX8mhNtEJsna"
      },
      "source": [
        "Next, you will need to obtain an access token:"
      ]
    },
    {
      "cell_type": "code",
      "execution_count": null,
      "metadata": {
        "colab": {
          "base_uri": "https://localhost:8080/"
        },
        "id": "6Wk8iZdUgaY6",
        "outputId": "66360583-f8ab-4574-95d9-78d77a37d20e"
      },
      "outputs": [],
      "source": [
        "import cluedin\n",
        "from cluedin import Context\n",
        "\n",
        "context_data = {\n",
        "    \"protocol\": \"http\", # default - `https`\n",
        "    \"domain\": \"cluedin.local:8888\",\n",
        "    \"org_name\": \"foobar\",\n",
        "    \"user_email\": \"admin@foobar.com\",\n",
        "    \"user_password\": \"Foobar23!\"\n",
        "}\n",
        "\n",
        "context = Context.from_dict(context_data)\n",
        "context.get_token()\n",
        "\n",
        "context.access_token"
      ]
    },
    {
      "attachments": {},
      "cell_type": "markdown",
      "metadata": {
        "id": "R_dDXilxJ5tM"
      },
      "source": [
        "Run a GraphQL query:"
      ]
    },
    {
      "cell_type": "code",
      "execution_count": 7,
      "metadata": {
        "colab": {
          "base_uri": "https://localhost:8080/"
        },
        "id": "ZdTw1D2rJ_vY",
        "outputId": "68cf3c64-90b1-44ce-b930-9b4bf1aead62"
      },
      "outputs": [
        {
          "data": {
            "text/plain": [
              "{'data': {'search': {'totalResults': 11,\n",
              "   'cursor': 'ewAiAFAAYQBnAGUAIgA6ADEALAAiAFAAYQBnAGUAUwBpAHoAZQAiADoAMQAwADAAMAAwACwAIgBDAG8AbQBwAG8AcwBpAHQAZQBBAGYAdABlAHIAIgA6AHsAfQAsACIAUwBlAGEAcgBjAGgAQQBmAHQAZQByACIAOgBbADEANgA4ADMANwAxADgAOQAwADEANwAyADcALAAtADkAMgAyADMAMwA3ADIAMAAzADYAOAA1ADQANwA3ADUAOAAwADgALAAtADkAMgAyADMAMwA3ADIAMAAzADYAOAA1ADQANwA3ADUAOAAwADgAXQB9AA==',\n",
              "   'entries': [{'id': '5ed3f80c-6620-5fd1-9e64-76ddce0bf36a',\n",
              "     'name': 'Fergus McDuck',\n",
              "     'entityType': '/Duck'},\n",
              "    {'id': '2be2108a-d987-5fd4-a5e0-117bf7c3ed25',\n",
              "     'name': 'Angus McDuck',\n",
              "     'entityType': '/Duck'},\n",
              "    {'id': '1ea867c9-5894-5652-a3e7-0bb883dc948f',\n",
              "     'name': 'Jake McDuck',\n",
              "     'entityType': '/Duck'},\n",
              "    {'id': '555bcd7e-e7ad-533c-b643-7e7d526e69e1',\n",
              "     'name': 'Matilda McDuck',\n",
              "     'entityType': '/Duck'},\n",
              "    {'id': '8dc4adf9-ffa1-55d1-9300-1e8f0294c7b0',\n",
              "     'name': 'Della Duck',\n",
              "     'entityType': '/Duck'},\n",
              "    {'id': 'a7234e57-419f-5e49-bf51-75d6b1dfa808',\n",
              "     'name': 'Hortense McDuck',\n",
              "     'entityType': '/Duck'},\n",
              "    {'id': 'c6ae727a-6a76-5443-a561-c2d24fb90747',\n",
              "     'name': 'Huey Duck',\n",
              "     'entityType': '/Duck'},\n",
              "    {'id': 'daf57f4d-a4df-5404-b056-a08d87f29c92',\n",
              "     'name': 'Donald Duck',\n",
              "     'entityType': '/Duck'},\n",
              "    {'id': '2c0e947d-4c0f-5367-a3c2-1378057510a8',\n",
              "     'name': 'Dewey Duck',\n",
              "     'entityType': '/Duck'},\n",
              "    {'id': 'df2e9243-e447-59f6-960f-683edd99bcbd',\n",
              "     'name': 'Louie Duck',\n",
              "     'entityType': '/Duck'},\n",
              "    {'id': 'd04e3a89-aed7-5cb2-b630-e4ac06d038b4',\n",
              "     'name': 'Scrooge McDuck',\n",
              "     'entityType': '/Duck'}]}}}"
            ]
          },
          "execution_count": 7,
          "metadata": {},
          "output_type": "execute_result"
        }
      ],
      "source": [
        "query = \"\"\"\n",
        "    query searchEntities($cursor: PagingCursor, $query: String, $pageSize: Int) {\n",
        "      search(query: $query, sort: DATE, cursor: $cursor, pageSize: $pageSize) {\n",
        "        totalResults\n",
        "        cursor\n",
        "        entries {\n",
        "          id\n",
        "          name\n",
        "          entityType\n",
        "        }\n",
        "      }\n",
        "    }\n",
        "\"\"\"\n",
        "\n",
        "variables = {\n",
        "    \"query\": \"entityType:/Duck\",\n",
        "    \"pageSize\": 10_000\n",
        "}\n",
        "\n",
        "response = cluedin.gql.gql(context, query, variables)\n",
        "\n",
        "response"
      ]
    },
    {
      "attachments": {},
      "cell_type": "markdown",
      "metadata": {
        "id": "sZyhbRkSSFWP"
      },
      "source": [
        "Get paged results:"
      ]
    },
    {
      "cell_type": "code",
      "execution_count": 8,
      "metadata": {
        "colab": {
          "base_uri": "https://localhost:8080/",
          "height": 488
        },
        "id": "A4rSdHs4KGkQ",
        "outputId": "336bf488-c205-4f9b-e18a-58ccce3a8513"
      },
      "outputs": [
        {
          "data": {
            "text/html": [
              "<div>\n",
              "<style scoped>\n",
              "    .dataframe tbody tr th:only-of-type {\n",
              "        vertical-align: middle;\n",
              "    }\n",
              "\n",
              "    .dataframe tbody tr th {\n",
              "        vertical-align: top;\n",
              "    }\n",
              "\n",
              "    .dataframe thead th {\n",
              "        text-align: right;\n",
              "    }\n",
              "</style>\n",
              "<table border=\"1\" class=\"dataframe\">\n",
              "  <thead>\n",
              "    <tr style=\"text-align: right;\">\n",
              "      <th></th>\n",
              "      <th>id</th>\n",
              "      <th>name</th>\n",
              "      <th>entityType</th>\n",
              "    </tr>\n",
              "  </thead>\n",
              "  <tbody>\n",
              "    <tr>\n",
              "      <th>0</th>\n",
              "      <td>5ed3f80c-6620-5fd1-9e64-76ddce0bf36a</td>\n",
              "      <td>Fergus McDuck</td>\n",
              "      <td>/Duck</td>\n",
              "    </tr>\n",
              "    <tr>\n",
              "      <th>1</th>\n",
              "      <td>2be2108a-d987-5fd4-a5e0-117bf7c3ed25</td>\n",
              "      <td>Angus McDuck</td>\n",
              "      <td>/Duck</td>\n",
              "    </tr>\n",
              "    <tr>\n",
              "      <th>2</th>\n",
              "      <td>1ea867c9-5894-5652-a3e7-0bb883dc948f</td>\n",
              "      <td>Jake McDuck</td>\n",
              "      <td>/Duck</td>\n",
              "    </tr>\n",
              "    <tr>\n",
              "      <th>3</th>\n",
              "      <td>555bcd7e-e7ad-533c-b643-7e7d526e69e1</td>\n",
              "      <td>Matilda McDuck</td>\n",
              "      <td>/Duck</td>\n",
              "    </tr>\n",
              "    <tr>\n",
              "      <th>4</th>\n",
              "      <td>8dc4adf9-ffa1-55d1-9300-1e8f0294c7b0</td>\n",
              "      <td>Della Duck</td>\n",
              "      <td>/Duck</td>\n",
              "    </tr>\n",
              "    <tr>\n",
              "      <th>5</th>\n",
              "      <td>a7234e57-419f-5e49-bf51-75d6b1dfa808</td>\n",
              "      <td>Hortense McDuck</td>\n",
              "      <td>/Duck</td>\n",
              "    </tr>\n",
              "    <tr>\n",
              "      <th>6</th>\n",
              "      <td>c6ae727a-6a76-5443-a561-c2d24fb90747</td>\n",
              "      <td>Huey Duck</td>\n",
              "      <td>/Duck</td>\n",
              "    </tr>\n",
              "    <tr>\n",
              "      <th>7</th>\n",
              "      <td>daf57f4d-a4df-5404-b056-a08d87f29c92</td>\n",
              "      <td>Donald Duck</td>\n",
              "      <td>/Duck</td>\n",
              "    </tr>\n",
              "    <tr>\n",
              "      <th>8</th>\n",
              "      <td>2c0e947d-4c0f-5367-a3c2-1378057510a8</td>\n",
              "      <td>Dewey Duck</td>\n",
              "      <td>/Duck</td>\n",
              "    </tr>\n",
              "    <tr>\n",
              "      <th>9</th>\n",
              "      <td>df2e9243-e447-59f6-960f-683edd99bcbd</td>\n",
              "      <td>Louie Duck</td>\n",
              "      <td>/Duck</td>\n",
              "    </tr>\n",
              "    <tr>\n",
              "      <th>10</th>\n",
              "      <td>d04e3a89-aed7-5cb2-b630-e4ac06d038b4</td>\n",
              "      <td>Scrooge McDuck</td>\n",
              "      <td>/Duck</td>\n",
              "    </tr>\n",
              "  </tbody>\n",
              "</table>\n",
              "</div>"
            ],
            "text/plain": [
              "                                      id             name entityType\n",
              "0   5ed3f80c-6620-5fd1-9e64-76ddce0bf36a    Fergus McDuck      /Duck\n",
              "1   2be2108a-d987-5fd4-a5e0-117bf7c3ed25     Angus McDuck      /Duck\n",
              "2   1ea867c9-5894-5652-a3e7-0bb883dc948f      Jake McDuck      /Duck\n",
              "3   555bcd7e-e7ad-533c-b643-7e7d526e69e1   Matilda McDuck      /Duck\n",
              "4   8dc4adf9-ffa1-55d1-9300-1e8f0294c7b0       Della Duck      /Duck\n",
              "5   a7234e57-419f-5e49-bf51-75d6b1dfa808  Hortense McDuck      /Duck\n",
              "6   c6ae727a-6a76-5443-a561-c2d24fb90747        Huey Duck      /Duck\n",
              "7   daf57f4d-a4df-5404-b056-a08d87f29c92      Donald Duck      /Duck\n",
              "8   2c0e947d-4c0f-5367-a3c2-1378057510a8       Dewey Duck      /Duck\n",
              "9   df2e9243-e447-59f6-960f-683edd99bcbd       Louie Duck      /Duck\n",
              "10  d04e3a89-aed7-5cb2-b630-e4ac06d038b4   Scrooge McDuck      /Duck"
            ]
          },
          "execution_count": 8,
          "metadata": {},
          "output_type": "execute_result"
        }
      ],
      "source": [
        "import numpy as np\n",
        "import pandas as pd\n",
        "\n",
        "query = \"\"\"\n",
        "    query searchEntities($cursor: PagingCursor, $query: String, $pageSize: Int) {\n",
        "      search(query: $query, sort: DATE, cursor: $cursor, pageSize: $pageSize) {\n",
        "        totalResults\n",
        "        cursor\n",
        "        entries {\n",
        "          id\n",
        "          name\n",
        "          entityType\n",
        "        }\n",
        "      }\n",
        "    }\n",
        "\"\"\"\n",
        "\n",
        "variables = {\n",
        "    \"query\": \"entityType:/Duck\",\n",
        "    \"pageSize\": 10_000\n",
        "}\n",
        "\n",
        "entries = np.array([x for x in cluedin.gql.entries(context, query, variables)])\n",
        "\n",
        "df = pd.DataFrame(entries.tolist(), columns=list(entries[0].keys()))\n",
        "df"
      ]
    },
    {
      "cell_type": "code",
      "execution_count": null,
      "metadata": {},
      "outputs": [],
      "source": []
    }
  ],
  "metadata": {
    "colab": {
      "provenance": []
    },
    "kernelspec": {
      "display_name": "Python 3",
      "name": "python3"
    },
    "language_info": {
      "codemirror_mode": {
        "name": "ipython",
        "version": 3
      },
      "file_extension": ".py",
      "mimetype": "text/x-python",
      "name": "python",
      "nbconvert_exporter": "python",
      "pygments_lexer": "ipython3",
      "version": "3.10.11"
    }
  },
  "nbformat": 4,
  "nbformat_minor": 0
}
